{
 "cells": [
  {
   "cell_type": "markdown",
   "metadata": {},
   "source": [
    "# First, make a simple Python dataframe"
   ]
  },
  {
   "cell_type": "code",
   "execution_count": 1,
   "metadata": {},
   "outputs": [
    {
     "name": "stdout",
     "output_type": "stream",
     "text": [
      "   time  neuron1  neuron2\n",
      "0     1        1        2\n",
      "1     2        4        4\n",
      "2     3        1        5\n",
      "3     4        7        1\n",
      "4     5        2        7\n",
      "5     6       10        7\n",
      "6     7        1        2\n",
      "7     8        2       12\n",
      "8     9        2        3\n",
      "9    10        5        7\n"
     ]
    }
   ],
   "source": [
    "import pandas as pd\n",
    "\n",
    "# a 2D df\n",
    "data = {'time': [1,2,3,4,5,6,7,8,9,10],\n",
    "        'neuron1': [1,4,1,7,2,10,1,2,2,5],\n",
    "        'neuron2': [2,4,5,1,7,7,2,12,3,7]}\n",
    "df = pd.DataFrame(data, columns=['time', 'neuron1', 'neuron2'])\n",
    "\n",
    "print df"
   ]
  },
  {
   "cell_type": "markdown",
   "metadata": {},
   "source": [
    "# Now store the object using a notebook (ipython) magic command"
   ]
  },
  {
   "cell_type": "code",
   "execution_count": 2,
   "metadata": {},
   "outputs": [
    {
     "name": "stdout",
     "output_type": "stream",
     "text": [
      "Stored 'df' (DataFrame)\n"
     ]
    }
   ],
   "source": [
    "%store df"
   ]
  },
  {
   "cell_type": "markdown",
   "metadata": {},
   "source": [
    "# Open a second notebook to use the object in a Python 3 kernel\n",
    "### [click to open](Python_3_receive_objects.ipynb)"
   ]
  },
  {
   "cell_type": "code",
   "execution_count": null,
   "metadata": {},
   "outputs": [],
   "source": []
  }
 ],
 "metadata": {
  "kernelspec": {
   "display_name": "Python 2",
   "language": "python",
   "name": "python2"
  },
  "language_info": {
   "codemirror_mode": {
    "name": "ipython",
    "version": 2
   },
   "file_extension": ".py",
   "mimetype": "text/x-python",
   "name": "python",
   "nbconvert_exporter": "python",
   "pygments_lexer": "ipython2",
   "version": "2.7.12"
  }
 },
 "nbformat": 4,
 "nbformat_minor": 2
}
