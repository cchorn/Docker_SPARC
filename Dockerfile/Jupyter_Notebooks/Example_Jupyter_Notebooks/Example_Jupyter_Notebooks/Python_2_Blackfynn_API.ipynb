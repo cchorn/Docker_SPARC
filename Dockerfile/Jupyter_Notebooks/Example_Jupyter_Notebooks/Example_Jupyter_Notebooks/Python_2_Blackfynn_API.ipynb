{
 "cells": [
  {
   "cell_type": "markdown",
   "metadata": {},
   "source": [
    "### Important links:"
   ]
  },
  {
   "cell_type": "markdown",
   "metadata": {},
   "source": [
    "[Blackfynn login](https://app.blackfynn.io/)   \n",
    "[Blackfynn documentation](http://docs.blackfynn.io/platform/index.html)   \n",
    "[Blackfynn Python API documentation](http://docs.blackfynn.io/clients/python/index.html#python-client)"
   ]
  },
  {
   "cell_type": "markdown",
   "metadata": {},
   "source": [
    "# 1. make sure to install your credentials!"
   ]
  },
  {
   "cell_type": "code",
   "execution_count": 1,
   "metadata": {},
   "outputs": [
    {
     "data": {
      "text/html": [
       "\n",
       "        <iframe\n",
       "            width=\"700\"\n",
       "            height=\"350\"\n",
       "            src=\"http://docs.blackfynn.io/platform/clients/getting_started.html\"\n",
       "            frameborder=\"0\"\n",
       "            allowfullscreen\n",
       "        ></iframe>\n",
       "        "
      ],
      "text/plain": [
       "<IPython.lib.display.IFrame at 0x7f4d4c150fd0>"
      ]
     },
     "execution_count": 1,
     "metadata": {},
     "output_type": "execute_result"
    }
   ],
   "source": [
    "from IPython.display import IFrame\n",
    "IFrame('http://docs.blackfynn.io/platform/clients/getting_started.html', width=700, height=350)"
   ]
  },
  {
   "cell_type": "markdown",
   "metadata": {},
   "source": [
    "# 2. load the blackfynn package and your profile name"
   ]
  },
  {
   "cell_type": "code",
   "execution_count": 2,
   "metadata": {},
   "outputs": [],
   "source": [
    "from blackfynn import Blackfynn\n",
    "bf = Blackfynn('chorn')"
   ]
  },
  {
   "cell_type": "markdown",
   "metadata": {},
   "source": [
    "# 3. check your current datasets on the Blackfynn platform"
   ]
  },
  {
   "cell_type": "code",
   "execution_count": 3,
   "metadata": {},
   "outputs": [
    {
     "name": "stdout",
     "output_type": "stream",
     "text": [
      " Found a dataset:  Closed_Loop_GI_Control\n",
      " Found a dataset:  IR_Vagus_Shrew\n",
      " Found a dataset:  Test Upload\n",
      " Found a dataset:  Test Docker upload\n"
     ]
    }
   ],
   "source": [
    "for ds in bf.datasets():\n",
    "    print \" Found a dataset: \", ds.name"
   ]
  },
  {
   "cell_type": "markdown",
   "metadata": {},
   "source": [
    "# 4. show the files in the fourth dataset"
   ]
  },
  {
   "cell_type": "code",
   "execution_count": 4,
   "metadata": {},
   "outputs": [
    {
     "name": "stdout",
     "output_type": "stream",
     "text": [
      "[]\n"
     ]
    }
   ],
   "source": [
    "import sys\n",
    "import pprint\n",
    "\n",
    "ds4 = bf.get_dataset('Test Docker upload')\n",
    "\n",
    "pprint.pprint(ds4.items)"
   ]
  },
  {
   "cell_type": "markdown",
   "metadata": {},
   "source": [
    "# 5. Upload a folder of files"
   ]
  },
  {
   "cell_type": "code",
   "execution_count": 5,
   "metadata": {},
   "outputs": [
    {
     "data": {
      "text/plain": [
       "{u'appendToPackage': False,\n",
       " u'bucket': u'prod-uploads-blackfynn',\n",
       " u'dataset': u'N:dataset:cc8cb2fa-e34d-427e-8379-24972db4edb7',\n",
       " u'email': u'chorn@PITT.EDU',\n",
       " u'encryptionKeyId': u'arn:aws:kms:us-east-1:960751427106:key/4bd0613a-30f3-4618-ada7-85a02961a8a5',\n",
       " u'fileGroupPath': u'chorn@PITT.EDU/e6e209ec-3c42-4e04-85ec-2c438cbd86bc/',\n",
       " u'files': [u'chorn@PITT.EDU/e6e209ec-3c42-4e04-85ec-2c438cbd86bc/nerve_signal.s2rx',\n",
       "  u'chorn@PITT.EDU/e6e209ec-3c42-4e04-85ec-2c438cbd86bc/nerve_signal.smr'],\n",
       " u'groupId': u'e6e209ec-3c42-4e04-85ec-2c438cbd86bc',\n",
       " u'organizationId': u'N:organization:54b275f0-687c-4084-9777-5774601e3fb6',\n",
       " u'session': u'afa9150e-53bb-4c25-971e-143bf8b50fba',\n",
       " u'userId': u'N:user:e24f04c9-4b6d-47ed-ac5a-96bfbc35bc51'}"
      ]
     },
     "execution_count": 5,
     "metadata": {},
     "output_type": "execute_result"
    }
   ],
   "source": [
    "import glob\n",
    "files = glob.glob('Data/*')\n",
    "ds4.upload(*files)"
   ]
  },
  {
   "cell_type": "markdown",
   "metadata": {},
   "source": [
    "# 5. recheck your files"
   ]
  },
  {
   "cell_type": "code",
   "execution_count": 6,
   "metadata": {},
   "outputs": [
    {
     "name": "stdout",
     "output_type": "stream",
     "text": [
      "[<DataPackage name='nerve_signal.s2rx' id='N:package:3ef3fa5a-2908-4578-bdfd-9325f891e896'>,\n",
      " <DataPackage name='nerve_signal.smr' id='N:package:edf798c3-f2ca-4cb6-bb94-f1017748375b'>]\n"
     ]
    }
   ],
   "source": [
    "import sys\n",
    "import pprint\n",
    "\n",
    "ds4 = bf.get_dataset('Test Docker upload')\n",
    "\n",
    "pprint.pprint(ds4.items)"
   ]
  },
  {
   "cell_type": "code",
   "execution_count": null,
   "metadata": {},
   "outputs": [],
   "source": []
  }
 ],
 "metadata": {
  "kernelspec": {
   "display_name": "Python 2",
   "language": "python",
   "name": "python2"
  },
  "language_info": {
   "codemirror_mode": {
    "name": "ipython",
    "version": 2
   },
   "file_extension": ".py",
   "mimetype": "text/x-python",
   "name": "python",
   "nbconvert_exporter": "python",
   "pygments_lexer": "ipython2",
   "version": "2.7.12"
  }
 },
 "nbformat": 4,
 "nbformat_minor": 2
}
