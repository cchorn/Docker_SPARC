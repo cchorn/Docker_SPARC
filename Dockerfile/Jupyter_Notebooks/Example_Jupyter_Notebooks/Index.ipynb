{
 "cells": [
  {
   "cell_type": "markdown",
   "metadata": {},
   "source": [
    "# Index of notebooks:  How to ..."
   ]
  },
  {
   "cell_type": "markdown",
   "metadata": {},
   "source": [
    "### 1. [check the versions of Python 2, Python 3, and R ... and installed packages](Example_Jupyter_Notebooks/Python_R_version_and_Package_check.ipynb)   \n",
    "\n",
    "### 2. [use Python and R in the same notebook](Example_Jupyter_Notebooks/Python_and_R_in_same_notebook.ipynb)\n",
    "* uses Python package \"rpy2\" to create a bridge  \n",
    "\n",
    "### 3. [pass data between notebooks running different versions of Python](Example_Jupyter_Notebooks/Python_2_store_objects.ipynb)\n",
    "* uses notebook magic command \"%store\" to move data from Python 2 to Python 3 notebook\n",
    "\n",
    "### 4. [load a Spike 2 file into Python](Example_Jupyter_Notebooks/Python_load_Spike2.ipynb)\n",
    "* uses Python \"Neo\" package; other file type imports are supported, e.g., [Matlab, Axon Instruments, HDF5, Neuroshare, Plexon, Tucker Davis, etc.](http://neo.readthedocs.io/en/0.5.0/io.html)\n",
    "* also, shows how to import an external script into the notebook (a good way to reduce code clutter)\n",
    "\n",
    "### 5. [use Blackfynn Python 2 API](Example_Jupyter_Notebooks/Python_2_Blackfynn_API.ipynb)\n",
    "* brief example of uploading and and checking files on the Blackfynn platform; see [Blackfynn's documentation for more information](http://docs.blackfynn.io/platform/index.html)\n",
    "* Note: you'll need to set up credentials on the Docker image to use the API; your Blackfynn profile will be erased on the image when the container is removed from your system (if you want to save the profile, you can save the container as a new image; see Readme file). "
   ]
  },
  {
   "cell_type": "code",
   "execution_count": null,
   "metadata": {},
   "outputs": [],
   "source": []
  }
 ],
 "metadata": {
  "kernelspec": {
   "display_name": "Python 3",
   "language": "python",
   "name": "python3"
  },
  "language_info": {
   "codemirror_mode": {
    "name": "ipython",
    "version": 3
   },
   "file_extension": ".py",
   "mimetype": "text/x-python",
   "name": "python",
   "nbconvert_exporter": "python",
   "pygments_lexer": "ipython3",
   "version": "3.5.2"
  }
 },
 "nbformat": 4,
 "nbformat_minor": 2
}
