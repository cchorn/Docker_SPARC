{
 "cells": [
  {
   "cell_type": "markdown",
   "metadata": {},
   "source": [
    "# 1. First, you need credentials!\n",
    "* Instructions from Blackfynn: http://help.blackfynn.com/developers/configuration/creating-an-api-key-for-the-blackfynn-clients"
   ]
  },
  {
   "cell_type": "markdown",
   "metadata": {},
   "source": [
    "# 2. Create or link a profile"
   ]
  },
  {
   "cell_type": "markdown",
   "metadata": {},
   "source": [
    "#### go to the terminal and enter the following to create a profile:\n",
    "\n",
    "```\n",
    "bf profile create\n",
    "```\n",
    "\n",
    "* follow the prompts to enter profile name, token, and secret (these are created in the Blackfynn web account)"
   ]
  },
  {
   "cell_type": "code",
   "execution_count": null,
   "metadata": {},
   "outputs": [],
   "source": [
    "# now check the status of the connection to Blackfynn\n",
    "!bf status"
   ]
  },
  {
   "cell_type": "markdown",
   "metadata": {},
   "source": [
    "# 3. check current datasets"
   ]
  },
  {
   "cell_type": "code",
   "execution_count": null,
   "metadata": {},
   "outputs": [],
   "source": [
    "# load module and set the profile\n",
    "from blackfynn import Blackfynn\n",
    "bf = Blackfynn('profile name')\n",
    "bf"
   ]
  },
  {
   "cell_type": "code",
   "execution_count": null,
   "metadata": {},
   "outputs": [],
   "source": [
    "# list of datasets\n",
    "for ds in bf.datasets():\n",
    "    print(\" Found a dataset: \", ds.name)"
   ]
  },
  {
   "cell_type": "code",
   "execution_count": null,
   "metadata": {
    "scrolled": true
   },
   "outputs": [],
   "source": [
    "# list of collections in a dataset\n",
    "import sys\n",
    "target_dataset = bf.get_dataset('name of dataset')\n",
    "print(target_dataset.items)"
   ]
  },
  {
   "cell_type": "code",
   "execution_count": null,
   "metadata": {},
   "outputs": [],
   "source": [
    "# list of files in a collection\n",
    "target_collection = bf.get('collection id')\n",
    "print(target_collection.items)"
   ]
  },
  {
   "cell_type": "markdown",
   "metadata": {},
   "source": [
    "# 4. list of locaal files to upload"
   ]
  },
  {
   "cell_type": "code",
   "execution_count": null,
   "metadata": {},
   "outputs": [],
   "source": [
    "!ls Data/"
   ]
  },
  {
   "cell_type": "markdown",
   "metadata": {},
   "source": [
    "# 5. upload the test files\n",
    "# NOTE: this will not preserve the directory structure"
   ]
  },
  {
   "cell_type": "code",
   "execution_count": null,
   "metadata": {},
   "outputs": [],
   "source": [
    "# get a list of the files in the folder\n",
    "import glob\n",
    "files = glob.glob('Data/**/*.*', recursive=True)\n",
    "print('total files = ', len(files))\n",
    "print('file names: ')\n",
    "print(files)"
   ]
  },
  {
   "cell_type": "code",
   "execution_count": null,
   "metadata": {},
   "outputs": [],
   "source": [
    "# upload the files\n",
    "target_collection.upload(*files)"
   ]
  }
 ],
 "metadata": {
  "jupytext": {},
  "kernelspec": {
   "display_name": "Python 3",
   "language": "python",
   "name": "python3"
  },
  "language_info": {
   "codemirror_mode": {
    "name": "ipython",
    "version": 3
   },
   "file_extension": ".py",
   "mimetype": "text/x-python",
   "name": "python",
   "nbconvert_exporter": "python",
   "pygments_lexer": "ipython3",
   "version": "3.6.6"
  }
 },
 "nbformat": 4,
 "nbformat_minor": 2
}
