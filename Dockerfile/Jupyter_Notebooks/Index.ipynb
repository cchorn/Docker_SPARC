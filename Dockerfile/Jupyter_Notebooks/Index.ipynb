{
 "cells": [
  {
   "cell_type": "markdown",
   "metadata": {},
   "source": [
    "# Index of notebooks:  How to ..."
   ]
  },
  {
   "cell_type": "markdown",
   "metadata": {},
   "source": [
    "[1. Check software versions](Example_Jupyter_Notebooks/1.check_software_versions.ipynb)\n",
    "* checks the installed versions of Python 3, Python 2, R, and installed packages\n",
    "\n",
    "[2. Python and R in same notebook](Example_Jupyter_Notebooks/2.python_and_R_in_same_notebook.ipynb)\n",
    "* uses Python package \"rpy2\" to create a bridge between Python and R in the same notebook\n",
    "\n",
    "[3. Pass data between notebooks](Example_Jupyter_Notebooks/3.pass_data.ipynb)\n",
    "* uses notebook magic command \"%store\" to move data from a Python 2 to Python 3 notebook\n",
    "\n",
    "[4. Python load Spike 2 file](Example_Jupyter_Notebooks/4.python_load_spike2.ipynb)\n",
    "* uses Python \"Neo\" package; other file type imports are supported, e.g., [Matlab, Axon Instruments, HDF5, Neuroshare, Plexon, Tucker Davis, etc.](http://neo.readthedocs.io/en/0.5.0/io.html)\n",
    "* also, shows how to import an external script into the notebook (a good way to reduce code clutter)\n",
    "\n",
    "[5. Image analysis](Example_Jupyter_Notebooks/5.image_analysis.ipynb)\n",
    "* example of immunohistochemical staining color separation\n",
    "* this example is from http://scikit-image.org/docs/stable/auto_examples/color_exposure/plot_ihc_color_separation.html#sphx-glr-auto-examples-color-exposure-plot-ihc-color-separation-py.\n",
    "\n",
    "[6. Blackfynn API, using Python3 library](Example_Jupyter_Notebooks/6.Blackfynn_Python3_library.ipynb)\n",
    "* example of uploading files to the Blackfynn platform\n",
    "\n",
    "[7. Blackfynn API, using shell commands](Example_Jupyter_Notebooks/7.Blackfynn_Python3_shell.ipynb)\n",
    "* example of uploading files to the Blackfynn platform, based on terminal commands\n",
    "* a Python 3 script is also included \"blackfynn_python3_script.py\" that will run from the terminal using \"python3 blackfynn_python3_script.py\" command; this script also has a timer output\n",
    "* using this notebook and script permits preservation of the uploaded directory structure\n"
   ]
  },
  {
   "cell_type": "code",
   "execution_count": null,
   "metadata": {},
   "outputs": [],
   "source": []
  }
 ],
 "metadata": {
  "jupytext": {},
  "kernelspec": {
   "display_name": "Python 3",
   "language": "python",
   "name": "python3"
  },
  "language_info": {
   "codemirror_mode": {
    "name": "ipython",
    "version": 3
   },
   "file_extension": ".py",
   "mimetype": "text/x-python",
   "name": "python",
   "nbconvert_exporter": "python",
   "pygments_lexer": "ipython3",
   "version": "3.6.7"
  }
 },
 "nbformat": 4,
 "nbformat_minor": 2
}
